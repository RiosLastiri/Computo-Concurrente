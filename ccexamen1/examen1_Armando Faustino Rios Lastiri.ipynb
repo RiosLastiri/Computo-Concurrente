{
 "cells": [
  {
   "cell_type": "code",
   "execution_count": 24,
   "metadata": {},
   "outputs": [
    {
     "name": "stdout",
     "output_type": "stream",
     "text": [
      "a\n",
      "a\n",
      "b\n",
      "a\n",
      "b\n",
      "c\n",
      "c\n",
      "b\n",
      "c\n"
     ]
    }
   ],
   "source": [
    "import multiprocessing as mp\n",
    "\n",
    "class hijo(mp.Process):\n",
    "    def __init__(self,n,s):\n",
    "        super(hijo,self).__init__()\n",
    "        self.n=n\n",
    "        self.s=s\n",
    "    \n",
    "    def imprimir(self,n,s):\n",
    "        for i in range (n):\n",
    "            print(s)\n",
    "            \n",
    "    def run(self):        \n",
    "        self.imprimir(self.n,self.s)\n",
    "\n",
    "if __name__=='__main__':\n",
    "    n=3\n",
    "    p1=hijo(n,'a')\n",
    "    p2=hijo(n,'b')\n",
    "    p3=hijo(n,'c')\n",
    "    p1.start()\n",
    "    p2.start()\n",
    "    p3.start()\n",
    "    p1.join()\n",
    "    p2.join()\n",
    "    p3.join()"
   ]
  },
  {
   "cell_type": "code",
   "execution_count": 1,
   "metadata": {},
   "outputs": [
    {
     "name": "stdout",
     "output_type": "stream",
     "text": [
      "a\n",
      "a\n",
      "a\n",
      "b\n",
      "b\n",
      "b\n",
      "c\n",
      "c\n",
      "c\n"
     ]
    }
   ],
   "source": [
    "import multiprocessing as mp\n",
    "\n",
    "class hijo(mp.Process):\n",
    "    def __init__(self,n,s,turno,turnoActual):\n",
    "        super(hijo,self).__init__()\n",
    "        self.n=n\n",
    "        self.s=s\n",
    "        self.turno=turno\n",
    "        self.turnoActual=turnoActual\n",
    "        self.lock=mp.Lock()\n",
    "    \n",
    "    def imprimir(self,n,s):\n",
    "        for i in range (n):\n",
    "            print(s)\n",
    "            \n",
    "    def run(self):\n",
    "        while self.turnoActual.value != self.turno:\n",
    "            pass\n",
    "        \n",
    "        self.imprimir(self.n,self.s)\n",
    "        self.lock.acquire()\n",
    "        self.turnoActual.value+=1\n",
    "        self.lock.release()\n",
    "\n",
    "if __name__=='__main__':\n",
    "    n=3\n",
    "    turnoActual=mp.Value('i',1)\n",
    "    p1=hijo(n,'a',1,turnoActual)\n",
    "    p2=hijo(n,'b',2,turnoActual)\n",
    "    p3=hijo(n,'c',3,turnoActual)\n",
    "    p1.start()\n",
    "    p2.start()\n",
    "    p3.start()\n",
    "    p1.join()\n",
    "    p2.join()\n",
    "    p3.join()\n"
   ]
  }
 ],
 "metadata": {
  "kernelspec": {
   "display_name": "Python 3",
   "language": "python",
   "name": "python3"
  },
  "language_info": {
   "codemirror_mode": {
    "name": "ipython",
    "version": 3
   },
   "file_extension": ".py",
   "mimetype": "text/x-python",
   "name": "python",
   "nbconvert_exporter": "python",
   "pygments_lexer": "ipython3",
   "version": "3.7.3"
  }
 },
 "nbformat": 4,
 "nbformat_minor": 2
}
