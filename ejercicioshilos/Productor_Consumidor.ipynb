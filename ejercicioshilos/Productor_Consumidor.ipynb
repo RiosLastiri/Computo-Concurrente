{
  "nbformat": 4,
  "nbformat_minor": 0,
  "metadata": {
    "colab": {
      "name": "Productor-Consumidor.ipynb",
      "provenance": []
    },
    "kernelspec": {
      "name": "python3",
      "display_name": "Python 3"
    }
  },
  "cells": [
    {
      "cell_type": "code",
      "metadata": {
        "id": "J9ceFKXYFaLL",
        "colab_type": "code",
        "outputId": "ed0f48e0-6f19-410b-88bf-7fc0e259d7e6",
        "colab": {
          "base_uri": "https://localhost:8080/",
          "height": 1000
        }
      },
      "source": [
        "import threading\n",
        "from threading import Condition, Thread\n",
        "import queue\n",
        "import random\n",
        "import time\n",
        "import sys\n",
        "\n",
        "def productor(q):\n",
        "  global demanda\n",
        "  #while True:\n",
        "  while demanda>0:\n",
        "    sys.stdout.write(\"Demanda actual= {}\\n\".format(demanda))\n",
        "    time.sleep(0.5)\n",
        "    item=random.randint(1,100)\n",
        "    condition.acquire()\n",
        "    q.put(item)\n",
        "    sys.stdout.write(\"Se agrego el item {} al buffer\\n\".format(item))\n",
        "    demanda-=1\n",
        "    condition.notify()\n",
        "    condition.release()\n",
        "  sys.stdout.write(\"El productor termino, demanda actual= {}\\n\".format(demanda))\n",
        "\n",
        "def consumidor(hambre,q):\n",
        "  global demanda\n",
        "  nombre=threading.current_thread().getName()\n",
        "  #while True:\n",
        "  while hambre>0:\n",
        "    time.sleep(0.3)\n",
        "    condition.acquire()\n",
        "    condition.wait()\n",
        "    item=q.get()\n",
        "    hambre-=1\n",
        "    sys.stdout.write(\"El cosumidor {}, consumio el item {}, hambre actual = {}\\n\".format(nombre,item,hambre))\n",
        "    condition.release()\n",
        "  sys.stdout.write(\"El cosumidor {}, termino\\n\".format(nombre))\n",
        "\n",
        "q=queue.Queue()\n",
        "condition=Condition()\n",
        "consumidores=[]\n",
        "n_consumidores=2\n",
        "demanda=10\n",
        "p=Thread(target=productor, args=(q,))\n",
        "p.start()\n",
        "\n",
        "for id in range(n_consumidores):\n",
        "  consumidores.append(Thread(target=consumidor, args=(5,q), name=str(id)))\n",
        "  consumidores[id].start()\n",
        "\n",
        "for id in range(n_consumidores):\n",
        "  consumidores[id].join()\n",
        "\n",
        "p.join()"
      ],
      "execution_count": 0,
      "outputs": [
        {
          "output_type": "stream",
          "text": [
            "Demanda actual= 10\n",
            "Se agrego el item 26 al buffer\n",
            "Demanda actual= 9\n",
            "hola 9\n",
            "El cosumidor 0, consumio el item 26, hambre actual = 4\n",
            "Se agrego el item 58 al buffer\n",
            "Demanda actual= 8\n",
            "hola 8\n",
            "El cosumidor 1, consumio el item 58, hambre actual = 4\n",
            "Se agrego el item 43 al buffer\n",
            "Demanda actual= 7\n",
            "hola 7\n",
            "El cosumidor 0, consumio el item 43, hambre actual = 3\n",
            "Se agrego el item 43 al buffer\n",
            "Demanda actual= 6\n",
            "hola 6\n",
            "El cosumidor 1, consumio el item 43, hambre actual = 3\n",
            "Se agrego el item 63 al buffer\n",
            "hola 5\n",
            "Demanda actual= 5\n",
            "El cosumidor 0, consumio el item 63, hambre actual = 2\n",
            "Se agrego el item 58 al buffer\n",
            "hola 4\n",
            "El cosumidor 1, consumio el item 58, hambre actual = 2\n",
            "Demanda actual= 4\n",
            "Se agrego el item 63 al buffer\n",
            "hola 3\n",
            "Demanda actual= 3\n",
            "El cosumidor 0, consumio el item 63, hambre actual = 1\n",
            "Se agrego el item 30 al buffer\n",
            "hola 2\n",
            "El cosumidor 1, consumio el item 30, hambre actual = 1\n",
            "Demanda actual= 2\n",
            "Se agrego el item 53 al buffer\n",
            "Demanda actual= 1\n",
            "hola 1\n",
            "El cosumidor 0, consumio el item 53, hambre actual = 0\n",
            "El cosumidor 0, termino\n"
          ],
          "name": "stdout"
        },
        {
          "output_type": "error",
          "ename": "KeyboardInterrupt",
          "evalue": "ignored",
          "traceback": [
            "\u001b[0;31m---------------------------------------------------------------------------\u001b[0m",
            "\u001b[0;31mKeyboardInterrupt\u001b[0m                         Traceback (most recent call last)",
            "\u001b[0;32m<ipython-input-1-cc27f5cfb6a4>\u001b[0m in \u001b[0;36m<module>\u001b[0;34m()\u001b[0m\n\u001b[1;32m     49\u001b[0m \u001b[0;34m\u001b[0m\u001b[0m\n\u001b[1;32m     50\u001b[0m \u001b[0;32mfor\u001b[0m \u001b[0mid\u001b[0m \u001b[0;32min\u001b[0m \u001b[0mrange\u001b[0m\u001b[0;34m(\u001b[0m\u001b[0mn_consumidores\u001b[0m\u001b[0;34m)\u001b[0m\u001b[0;34m:\u001b[0m\u001b[0;34m\u001b[0m\u001b[0;34m\u001b[0m\u001b[0m\n\u001b[0;32m---> 51\u001b[0;31m   \u001b[0mconsumidores\u001b[0m\u001b[0;34m[\u001b[0m\u001b[0mid\u001b[0m\u001b[0;34m]\u001b[0m\u001b[0;34m.\u001b[0m\u001b[0mjoin\u001b[0m\u001b[0;34m(\u001b[0m\u001b[0;34m)\u001b[0m\u001b[0;34m\u001b[0m\u001b[0;34m\u001b[0m\u001b[0m\n\u001b[0m\u001b[1;32m     52\u001b[0m \u001b[0;34m\u001b[0m\u001b[0m\n\u001b[1;32m     53\u001b[0m \u001b[0mp\u001b[0m\u001b[0;34m.\u001b[0m\u001b[0mjoin\u001b[0m\u001b[0;34m(\u001b[0m\u001b[0;34m)\u001b[0m\u001b[0;34m\u001b[0m\u001b[0;34m\u001b[0m\u001b[0m\n",
            "\u001b[0;32m/usr/lib/python3.6/threading.py\u001b[0m in \u001b[0;36mjoin\u001b[0;34m(self, timeout)\u001b[0m\n\u001b[1;32m   1054\u001b[0m \u001b[0;34m\u001b[0m\u001b[0m\n\u001b[1;32m   1055\u001b[0m         \u001b[0;32mif\u001b[0m \u001b[0mtimeout\u001b[0m \u001b[0;32mis\u001b[0m \u001b[0;32mNone\u001b[0m\u001b[0;34m:\u001b[0m\u001b[0;34m\u001b[0m\u001b[0;34m\u001b[0m\u001b[0m\n\u001b[0;32m-> 1056\u001b[0;31m             \u001b[0mself\u001b[0m\u001b[0;34m.\u001b[0m\u001b[0m_wait_for_tstate_lock\u001b[0m\u001b[0;34m(\u001b[0m\u001b[0;34m)\u001b[0m\u001b[0;34m\u001b[0m\u001b[0;34m\u001b[0m\u001b[0m\n\u001b[0m\u001b[1;32m   1057\u001b[0m         \u001b[0;32melse\u001b[0m\u001b[0;34m:\u001b[0m\u001b[0;34m\u001b[0m\u001b[0;34m\u001b[0m\u001b[0m\n\u001b[1;32m   1058\u001b[0m             \u001b[0;31m# the behavior of a negative timeout isn't documented, but\u001b[0m\u001b[0;34m\u001b[0m\u001b[0;34m\u001b[0m\u001b[0;34m\u001b[0m\u001b[0m\n",
            "\u001b[0;32m/usr/lib/python3.6/threading.py\u001b[0m in \u001b[0;36m_wait_for_tstate_lock\u001b[0;34m(self, block, timeout)\u001b[0m\n\u001b[1;32m   1070\u001b[0m         \u001b[0;32mif\u001b[0m \u001b[0mlock\u001b[0m \u001b[0;32mis\u001b[0m \u001b[0;32mNone\u001b[0m\u001b[0;34m:\u001b[0m  \u001b[0;31m# already determined that the C code is done\u001b[0m\u001b[0;34m\u001b[0m\u001b[0;34m\u001b[0m\u001b[0m\n\u001b[1;32m   1071\u001b[0m             \u001b[0;32massert\u001b[0m \u001b[0mself\u001b[0m\u001b[0;34m.\u001b[0m\u001b[0m_is_stopped\u001b[0m\u001b[0;34m\u001b[0m\u001b[0;34m\u001b[0m\u001b[0m\n\u001b[0;32m-> 1072\u001b[0;31m         \u001b[0;32melif\u001b[0m \u001b[0mlock\u001b[0m\u001b[0;34m.\u001b[0m\u001b[0macquire\u001b[0m\u001b[0;34m(\u001b[0m\u001b[0mblock\u001b[0m\u001b[0;34m,\u001b[0m \u001b[0mtimeout\u001b[0m\u001b[0;34m)\u001b[0m\u001b[0;34m:\u001b[0m\u001b[0;34m\u001b[0m\u001b[0;34m\u001b[0m\u001b[0m\n\u001b[0m\u001b[1;32m   1073\u001b[0m             \u001b[0mlock\u001b[0m\u001b[0;34m.\u001b[0m\u001b[0mrelease\u001b[0m\u001b[0;34m(\u001b[0m\u001b[0;34m)\u001b[0m\u001b[0;34m\u001b[0m\u001b[0;34m\u001b[0m\u001b[0m\n\u001b[1;32m   1074\u001b[0m             \u001b[0mself\u001b[0m\u001b[0;34m.\u001b[0m\u001b[0m_stop\u001b[0m\u001b[0;34m(\u001b[0m\u001b[0;34m)\u001b[0m\u001b[0;34m\u001b[0m\u001b[0;34m\u001b[0m\u001b[0m\n",
            "\u001b[0;31mKeyboardInterrupt\u001b[0m: "
          ]
        }
      ]
    },
    {
      "cell_type": "code",
      "metadata": {
        "id": "DSCtdrOdfLKf",
        "colab_type": "code",
        "colab": {}
      },
      "source": [
        ""
      ],
      "execution_count": 0,
      "outputs": []
    },
    {
      "cell_type": "code",
      "metadata": {
        "id": "y_lKVWhJToTr",
        "colab_type": "code",
        "colab": {}
      },
      "source": [
        ""
      ],
      "execution_count": 0,
      "outputs": []
    }
  ]
}