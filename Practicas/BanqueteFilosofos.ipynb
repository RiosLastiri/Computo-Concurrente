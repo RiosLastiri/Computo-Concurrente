{
 "cells": [
  {
   "cell_type": "code",
   "execution_count": 2,
   "metadata": {},
   "outputs": [
    {
     "name": "stdout",
     "output_type": "stream",
     "text": [
      "Hay 2 tenedores disponibles en la mesa dice el filosofo 0\n",
      "El filosofo 0 tiene hambre de 2, come y ahora su hambre es de 1 y quedan 1 tenedor\n",
      "El filosofo 0 devuelve el tenedor a la mesa ahora hay 2 tenedores\n",
      "Hay 2 tenedores disponibles en la mesa dice el filosofo 0\n",
      "El filosofo 0 tiene hambre de 1, come y ahora su hambre es de 0 y quedan 1 tenedor\n",
      "El filosofo 0 devuelve el tenedor a la mesa ahora hay 2 tenedores\n",
      "Hay 2 tenedores disponibles en la mesa dice el filosofo 3\n",
      "El filosofo 3 tiene hambre de 2, come y ahora su hambre es de 1 y quedan 1 tenedor\n",
      "El filosofo 3 devuelve el tenedor a la mesa ahora hay 2 tenedores\n",
      "Hay 2 tenedores disponibles en la mesa dice el filosofo 4\n",
      "El filosofo 4 tiene hambre de 2, come y ahora su hambre es de 1 y quedan 1 tenedor\n",
      "El filosofo 4 devuelve el tenedor a la mesa ahora hay 2 tenedores\n",
      "Hay 2 tenedores disponibles en la mesa dice el filosofo 1\n",
      "El filosofo 1 tiene hambre de 2, come y ahora su hambre es de 1 y quedan 1 tenedor\n",
      "El filosofo 1 devuelve el tenedor a la mesa ahora hay 2 tenedores\n",
      "Hay 2 tenedores disponibles en la mesa dice el filosofo 1\n",
      "El filosofo 1 tiene hambre de 1, come y ahora su hambre es de 0 y quedan 1 tenedor\n",
      "El filosofo 1 devuelve el tenedor a la mesa ahora hay 2 tenedores\n",
      "Hay 2 tenedores disponibles en la mesa dice el filosofo 3\n",
      "El filosofo 3 tiene hambre de 1, come y ahora su hambre es de 0 y quedan 1 tenedor\n",
      "El filosofo 3 devuelve el tenedor a la mesa ahora hay 2 tenedores\n",
      "Hay 2 tenedores disponibles en la mesa dice el filosofo 4\n",
      "El filosofo 4 tiene hambre de 1, come y ahora su hambre es de 0 y quedan 1 tenedor\n",
      "El filosofo 4 devuelve el tenedor a la mesa ahora hay 2 tenedores\n",
      "Hay 2 tenedores disponibles en la mesa dice el filosofo 2\n",
      "El filosofo 2 tiene hambre de 2, come y ahora su hambre es de 1 y quedan 1 tenedor\n",
      "El filosofo 2 devuelve el tenedor a la mesa ahora hay 2 tenedores\n",
      "Hay 2 tenedores disponibles en la mesa dice el filosofo 2\n",
      "El filosofo 2 tiene hambre de 1, come y ahora su hambre es de 0 y quedan 1 tenedor\n",
      "El filosofo 2 devuelve el tenedor a la mesa ahora hay 2 tenedores\n"
     ]
    }
   ],
   "source": [
    "import multiprocessing as mp\n",
    "import numpy as np\n",
    "import math\n",
    "\n",
    "\n",
    "class Filosofo(mp.Process):\n",
    "\n",
    "  def __init__ (self, nombre, tenedores,lock):\n",
    "    super(Filosofo,self).__init__()\n",
    "    self.nombre=nombre\n",
    "    #self.hambre=np.random.randint(1,10)\n",
    "    self.hambre=2\n",
    "    self.tenedores=tenedores\n",
    "    self.lock=lock\n",
    "    \n",
    "  def comer(self):\n",
    "    self.hambre -=1\n",
    "    \n",
    "  def run (self):\n",
    "    while self.hambre>0:\n",
    "      if self.tenedores.value>0:\n",
    "        self.lock.acquire()\n",
    "        print(\"Hay {} tenedores disponibles en la mesa dice el filosofo {}\".format(self.tenedores.value,self.nombre))\n",
    "        self.tenedores.value -=1\n",
    "        self.comer()\n",
    "        print(\"El filosofo {} tiene hambre de {}, come y ahora su hambre es de {} y quedan {} tenedor\".format\n",
    "              (self.nombre,self.hambre+1,self.hambre, self.tenedores.value))\n",
    "        self.lock.release()\n",
    "        self.lock.acquire()\n",
    "        self.tenedores.value +=1\n",
    "        print(\"El filosofo {} devuelve el tenedor a la mesa ahora hay {} tenedores\".format(self.nombre,self.tenedores.value))\n",
    "        self.lock.release()\n",
    "    \n",
    "        \n",
    "\n",
    "if __name__==\"__main__\":\n",
    "  n_filosofos=5\n",
    "  filosofos=[]\n",
    "  tenedores=mp.Value('i',math.floor(n_filosofos/2))\n",
    "  lock=mp.Lock()\n",
    "  for i in range(n_filosofos):\n",
    "    filosofos.append(Filosofo(i,tenedores,lock))\n",
    "    filosofos[i].start()\n",
    "    \n",
    "  for i in range(n_filosofos):\n",
    "    filosofos[i].join()"
   ]
  },
  {
   "cell_type": "code",
   "execution_count": null,
   "metadata": {},
   "outputs": [],
   "source": []
  }
 ],
 "metadata": {
  "kernelspec": {
   "display_name": "Python 3",
   "language": "python",
   "name": "python3"
  },
  "language_info": {
   "codemirror_mode": {
    "name": "ipython",
    "version": 3
   },
   "file_extension": ".py",
   "mimetype": "text/x-python",
   "name": "python",
   "nbconvert_exporter": "python",
   "pygments_lexer": "ipython3",
   "version": "3.7.3"
  }
 },
 "nbformat": 4,
 "nbformat_minor": 2
}
